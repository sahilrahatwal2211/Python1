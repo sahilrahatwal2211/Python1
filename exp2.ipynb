{
  "nbformat": 4,
  "nbformat_minor": 0,
  "metadata": {
    "colab": {
      "provenance": [],
      "authorship_tag": "ABX9TyM3kK0Z9NodHHl2lvBP/Mkv",
      "include_colab_link": true
    },
    "kernelspec": {
      "name": "python3",
      "display_name": "Python 3"
    },
    "language_info": {
      "name": "python"
    }
  },
  "cells": [
    {
      "cell_type": "markdown",
      "metadata": {
        "id": "view-in-github",
        "colab_type": "text"
      },
      "source": [
        "<a href=\"https://colab.research.google.com/github/sahilrahatwal2211/Python1/blob/main/exp2.ipynb\" target=\"_parent\"><img src=\"https://colab.research.google.com/assets/colab-badge.svg\" alt=\"Open In Colab\"/></a>"
      ]
    },
    {
      "cell_type": "code",
      "source": [
        "class File:\n",
        "    def __init__ (self, filename, method):\n",
        "        self.file = open (filename, method)\n",
        "\n",
        "    def __enter__ (self):\n",
        "        print ('Enter Method is executed')\n",
        "        return self.file\n",
        "\n",
        "    def __exit__ (self, type, value, traceback):\n",
        "        print (f'{type}, {value}, {traceback}')\n",
        "        print ('Exit method is executed')\n",
        "        self.file.close ()\n",
        "        # return True\n",
        "        if type == Exception:\n",
        "            return True\n",
        "\n",
        "if __name__ == '__main__':\n",
        "    with File ('./hello.txt', 'a') as f:\n",
        "        print ('Middle part is executed')\n",
        "        f.write(\"guyzz\")\n",
        "        raise Exception ()"
      ],
      "metadata": {
        "colab": {
          "base_uri": "https://localhost:8080/",
          "height": 0
        },
        "id": "D0AgttU9olvh",
        "outputId": "5b8a35e0-edf1-434a-c223-0f5436832406"
      },
      "execution_count": 8,
      "outputs": [
        {
          "output_type": "stream",
          "name": "stdout",
          "text": [
            "Enter Method is executed\n",
            "Middle part is executed\n",
            "<class 'Exception'>, , <traceback object at 0x7dcad4a80dc0>\n",
            "Exit method is executed\n"
          ]
        }
      ]
    },
    {
      "cell_type": "code",
      "source": [
        "class File:\n",
        "    def __init__ (self, filename, method):\n",
        "        self.file = open (filename, method)\n",
        "\n",
        "    def __enter__ (self):\n",
        "        print ('Enter Method is executed')\n",
        "        return self.file\n",
        "\n",
        "    def __exit__ (self, type, value, traceback):\n",
        "        print (f'{type}, {value}, {traceback}')\n",
        "        print ('Exit method is executed')\n",
        "        self.file.close ()\n",
        "        # return True\n",
        "        if type == Exception:\n",
        "            return True\n",
        "\n",
        "if __name__ == '__main__':\n",
        "    with File ('./hello.txt', 'r') as f:\n",
        "        print ('Middle part is executed')\n",
        "        print(f.read())\n",
        "        raise Exception ()"
      ],
      "metadata": {
        "colab": {
          "base_uri": "https://localhost:8080/",
          "height": 0
        },
        "id": "cQ1Zr3RgonMo",
        "outputId": "bc638b8e-c3eb-4848-804f-e831f02c0086"
      },
      "execution_count": 9,
      "outputs": [
        {
          "output_type": "stream",
          "name": "stdout",
          "text": [
            "Enter Method is executed\n",
            "Middle part is executed\n",
            "guyzz\n",
            "<class 'Exception'>, , <traceback object at 0x7dcad4668b80>\n",
            "Exit method is executed\n"
          ]
        }
      ]
    },
    {
      "cell_type": "code",
      "source": [
        "class File:\n",
        "    def __init__ (self, filename, method):\n",
        "        self.file = open (filename, method)\n",
        "\n",
        "    def __enter__ (self):\n",
        "        print ('Enter Method is executed')\n",
        "        return self.file\n",
        "\n",
        "    def __exit__ (self, type, value, traceback):\n",
        "        print (f'{type}, {value}, {traceback}')\n",
        "        print ('Exit method is executed')\n",
        "        self.file.close ()\n",
        "        # return True\n",
        "        if type == Exception:\n",
        "            return True\n",
        "\n",
        "if __name__ == '__main__':\n",
        "    with File ('./hello.txt', 'w') as f:\n",
        "        print ('Middle part is executed')\n",
        "        f.write(\"New text\")\n",
        "        raise Exception ()"
      ],
      "metadata": {
        "colab": {
          "base_uri": "https://localhost:8080/",
          "height": 0
        },
        "id": "oXZ2nxbSot3J",
        "outputId": "d82ca4fc-4f1d-4dd4-cafd-0888d747cbc8"
      },
      "execution_count": 10,
      "outputs": [
        {
          "output_type": "stream",
          "name": "stdout",
          "text": [
            "Enter Method is executed\n",
            "Middle part is executed\n",
            "<class 'Exception'>, , <traceback object at 0x7dcac69e9380>\n",
            "Exit method is executed\n"
          ]
        }
      ]
    },
    {
      "cell_type": "code",
      "source": [
        "class File:\n",
        "    def __init__ (self, filename, method):\n",
        "        self.file = open (filename, method)\n",
        "\n",
        "    def __enter__ (self):\n",
        "        print ('Enter Method is executed')\n",
        "        return self.file\n",
        "\n",
        "    def __exit__ (self, type, value, traceback):\n",
        "        print (f'{type}, {value}, {traceback}')\n",
        "        print ('Exit method is executed')\n",
        "        self.file.close ()\n",
        "        # return True\n",
        "        if type == Exception:\n",
        "            return True\n",
        "\n",
        "if __name__ == '__main__':\n",
        "    with File ('./hello.txt', 'r') as f:\n",
        "        print ('Middle part is executed')\n",
        "        print(f.read())\n",
        "        raise Exception ()"
      ],
      "metadata": {
        "colab": {
          "base_uri": "https://localhost:8080/",
          "height": 0
        },
        "id": "3j3btlAPovA4",
        "outputId": "c18c2b72-ad2b-439a-912d-00f1af693f1f"
      },
      "execution_count": 11,
      "outputs": [
        {
          "output_type": "stream",
          "name": "stdout",
          "text": [
            "Enter Method is executed\n",
            "Middle part is executed\n",
            "New text\n",
            "<class 'Exception'>, , <traceback object at 0x7dcac69fe840>\n",
            "Exit method is executed\n"
          ]
        }
      ]
    }
  ]
}